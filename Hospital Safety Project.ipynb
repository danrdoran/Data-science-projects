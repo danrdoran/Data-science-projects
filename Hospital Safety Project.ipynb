{
 "cells": [
  {
   "cell_type": "code",
   "execution_count": 1,
   "id": "e1c202d9",
   "metadata": {},
   "outputs": [],
   "source": [
    "import warnings\n",
    "warnings.filterwarnings(\"ignore\")\n",
    "\n",
    "# Libraries for data manipulation and visualization\n",
    "import pandas as pd\n",
    "\n",
    "import numpy as np\n",
    "\n",
    "import matplotlib.pyplot as plt\n",
    "\n",
    "import seaborn as sns"
   ]
  },
  {
   "cell_type": "code",
   "execution_count": 8,
   "id": "2321656b",
   "metadata": {},
   "outputs": [],
   "source": [
    "hospital = pd.read_excel(\"HOSPITAL_SAEFTY_DAexercise.xlsx\", sheet_name = \"HOSPITAL_SAFETY\")"
   ]
  },
  {
   "cell_type": "code",
   "execution_count": 12,
   "id": "4c512ea3",
   "metadata": {},
   "outputs": [],
   "source": [
    "# Copying data to another variable to avoid any changes to the original data\n",
    "df = hospital.copy()"
   ]
  },
  {
   "cell_type": "code",
   "execution_count": 13,
   "id": "c78d39c8",
   "metadata": {
    "scrolled": false
   },
   "outputs": [
    {
     "data": {
      "text/html": [
       "<div>\n",
       "<style scoped>\n",
       "    .dataframe tbody tr th:only-of-type {\n",
       "        vertical-align: middle;\n",
       "    }\n",
       "\n",
       "    .dataframe tbody tr th {\n",
       "        vertical-align: top;\n",
       "    }\n",
       "\n",
       "    .dataframe thead th {\n",
       "        text-align: right;\n",
       "    }\n",
       "</style>\n",
       "<table border=\"1\" class=\"dataframe\">\n",
       "  <thead>\n",
       "    <tr style=\"text-align: right;\">\n",
       "      <th></th>\n",
       "      <th>HOSP.ID</th>\n",
       "      <th>NAME</th>\n",
       "      <th>URBAN_RURAL</th>\n",
       "      <th>WAGE_INDEX</th>\n",
       "      <th>RESIDENT_TO_BEDS</th>\n",
       "      <th>BEDS</th>\n",
       "      <th>Cost_to_Charge</th>\n",
       "      <th>ANNUAL_VOLUME</th>\n",
       "      <th>CASEMIX</th>\n",
       "      <th>TYPE</th>\n",
       "      <th>OWNERSHIP</th>\n",
       "      <th>EMERGENCY_SERVICES</th>\n",
       "      <th>USES_EHRs</th>\n",
       "      <th>DENOM16</th>\n",
       "      <th>SIR16</th>\n",
       "      <th>DENOM15</th>\n",
       "      <th>SIR15</th>\n",
       "      <th>Treatment</th>\n",
       "    </tr>\n",
       "  </thead>\n",
       "  <tbody>\n",
       "    <tr>\n",
       "      <th>0</th>\n",
       "      <td>10001</td>\n",
       "      <td>SOUTHEAST ALABAMA MEDICAL CENTER</td>\n",
       "      <td>OURBAN</td>\n",
       "      <td>0.7704</td>\n",
       "      <td>0.0</td>\n",
       "      <td>408</td>\n",
       "      <td>0.197</td>\n",
       "      <td>7939</td>\n",
       "      <td>1.750650</td>\n",
       "      <td>Acute Care Hospitals</td>\n",
       "      <td>Government - Hospital District or Authority</td>\n",
       "      <td>True</td>\n",
       "      <td>1.0</td>\n",
       "      <td>7264.0</td>\n",
       "      <td>0.688</td>\n",
       "      <td>7117.0</td>\n",
       "      <td>2.816</td>\n",
       "      <td>1.0</td>\n",
       "    </tr>\n",
       "    <tr>\n",
       "      <th>1</th>\n",
       "      <td>10005</td>\n",
       "      <td>MARSHALL MEDICAL CENTER SOUTH</td>\n",
       "      <td>RURAL</td>\n",
       "      <td>0.8212</td>\n",
       "      <td>0.0</td>\n",
       "      <td>204</td>\n",
       "      <td>0.303</td>\n",
       "      <td>4036</td>\n",
       "      <td>1.343089</td>\n",
       "      <td>Acute Care Hospitals</td>\n",
       "      <td>Government - Hospital District or Authority</td>\n",
       "      <td>True</td>\n",
       "      <td>1.0</td>\n",
       "      <td>2464.0</td>\n",
       "      <td>0.000</td>\n",
       "      <td>2786.0</td>\n",
       "      <td>2.114</td>\n",
       "      <td>0.0</td>\n",
       "    </tr>\n",
       "    <tr>\n",
       "      <th>2</th>\n",
       "      <td>10006</td>\n",
       "      <td>ELIZA COFFEE MEMORIAL HOSPITAL</td>\n",
       "      <td>OURBAN</td>\n",
       "      <td>0.7325</td>\n",
       "      <td>0.0</td>\n",
       "      <td>358</td>\n",
       "      <td>0.186</td>\n",
       "      <td>5132</td>\n",
       "      <td>1.668372</td>\n",
       "      <td>Acute Care Hospitals</td>\n",
       "      <td>Government - Hospital District or Authority</td>\n",
       "      <td>True</td>\n",
       "      <td>1.0</td>\n",
       "      <td>8711.0</td>\n",
       "      <td>1.563</td>\n",
       "      <td>11159.0</td>\n",
       "      <td>0.639</td>\n",
       "      <td>0.0</td>\n",
       "    </tr>\n",
       "    <tr>\n",
       "      <th>3</th>\n",
       "      <td>10007</td>\n",
       "      <td>MIZELL MEMORIAL HOSPITAL</td>\n",
       "      <td>RURAL</td>\n",
       "      <td>0.6874</td>\n",
       "      <td>0.0</td>\n",
       "      <td>78</td>\n",
       "      <td>0.368</td>\n",
       "      <td>645</td>\n",
       "      <td>1.012308</td>\n",
       "      <td>Acute Care Hospitals</td>\n",
       "      <td>Voluntary non-profit - Private</td>\n",
       "      <td>True</td>\n",
       "      <td>1.0</td>\n",
       "      <td>282.0</td>\n",
       "      <td>NaN</td>\n",
       "      <td>48.0</td>\n",
       "      <td>NaN</td>\n",
       "      <td>0.0</td>\n",
       "    </tr>\n",
       "    <tr>\n",
       "      <th>4</th>\n",
       "      <td>10008</td>\n",
       "      <td>CRENSHAW COMMUNITY HOSPITAL</td>\n",
       "      <td>RURAL</td>\n",
       "      <td>0.6973</td>\n",
       "      <td>0.0</td>\n",
       "      <td>29</td>\n",
       "      <td>0.493</td>\n",
       "      <td>285</td>\n",
       "      <td>0.928597</td>\n",
       "      <td>Acute Care Hospitals</td>\n",
       "      <td>Proprietary</td>\n",
       "      <td>True</td>\n",
       "      <td>1.0</td>\n",
       "      <td>55.0</td>\n",
       "      <td>NaN</td>\n",
       "      <td>28.0</td>\n",
       "      <td>NaN</td>\n",
       "      <td>1.0</td>\n",
       "    </tr>\n",
       "  </tbody>\n",
       "</table>\n",
       "</div>"
      ],
      "text/plain": [
       "   HOSP.ID                              NAME URBAN_RURAL  WAGE_INDEX  \\\n",
       "0    10001  SOUTHEAST ALABAMA MEDICAL CENTER      OURBAN      0.7704   \n",
       "1    10005     MARSHALL MEDICAL CENTER SOUTH       RURAL      0.8212   \n",
       "2    10006    ELIZA COFFEE MEMORIAL HOSPITAL      OURBAN      0.7325   \n",
       "3    10007          MIZELL MEMORIAL HOSPITAL       RURAL      0.6874   \n",
       "4    10008       CRENSHAW COMMUNITY HOSPITAL       RURAL      0.6973   \n",
       "\n",
       "   RESIDENT_TO_BEDS  BEDS  Cost_to_Charge  ANNUAL_VOLUME   CASEMIX  \\\n",
       "0               0.0   408           0.197           7939  1.750650   \n",
       "1               0.0   204           0.303           4036  1.343089   \n",
       "2               0.0   358           0.186           5132  1.668372   \n",
       "3               0.0    78           0.368            645  1.012308   \n",
       "4               0.0    29           0.493            285  0.928597   \n",
       "\n",
       "                   TYPE                                    OWNERSHIP  \\\n",
       "0  Acute Care Hospitals  Government - Hospital District or Authority   \n",
       "1  Acute Care Hospitals  Government - Hospital District or Authority   \n",
       "2  Acute Care Hospitals  Government - Hospital District or Authority   \n",
       "3  Acute Care Hospitals               Voluntary non-profit - Private   \n",
       "4  Acute Care Hospitals                                  Proprietary   \n",
       "\n",
       "   EMERGENCY_SERVICES  USES_EHRs  DENOM16  SIR16  DENOM15  SIR15  Treatment  \n",
       "0                True        1.0   7264.0  0.688   7117.0  2.816        1.0  \n",
       "1                True        1.0   2464.0  0.000   2786.0  2.114        0.0  \n",
       "2                True        1.0   8711.0  1.563  11159.0  0.639        0.0  \n",
       "3                True        1.0    282.0    NaN     48.0    NaN        0.0  \n",
       "4                True        1.0     55.0    NaN     28.0    NaN        1.0  "
      ]
     },
     "execution_count": 13,
     "metadata": {},
     "output_type": "execute_result"
    }
   ],
   "source": [
    "df.head()"
   ]
  },
  {
   "cell_type": "code",
   "execution_count": 17,
   "id": "810101bb",
   "metadata": {},
   "outputs": [
    {
     "data": {
      "text/plain": [
       "(3263, 18)"
      ]
     },
     "execution_count": 17,
     "metadata": {},
     "output_type": "execute_result"
    }
   ],
   "source": [
    "df.shape"
   ]
  },
  {
   "cell_type": "code",
   "execution_count": 18,
   "id": "32fa1e04",
   "metadata": {
    "scrolled": true
   },
   "outputs": [
    {
     "name": "stdout",
     "output_type": "stream",
     "text": [
      "<class 'pandas.core.frame.DataFrame'>\n",
      "RangeIndex: 3263 entries, 0 to 3262\n",
      "Data columns (total 18 columns):\n",
      " #   Column              Non-Null Count  Dtype  \n",
      "---  ------              --------------  -----  \n",
      " 0   HOSP.ID             3263 non-null   int64  \n",
      " 1   NAME                3262 non-null   object \n",
      " 2   URBAN_RURAL         3263 non-null   object \n",
      " 3   WAGE_INDEX          3263 non-null   float64\n",
      " 4   RESIDENT_TO_BEDS    3263 non-null   float64\n",
      " 5   BEDS                3263 non-null   int64  \n",
      " 6   Cost_to_Charge      3263 non-null   float64\n",
      " 7   ANNUAL_VOLUME       3263 non-null   int64  \n",
      " 8   CASEMIX             3263 non-null   float64\n",
      " 9   TYPE                3263 non-null   object \n",
      " 10  OWNERSHIP           3263 non-null   object \n",
      " 11  EMERGENCY_SERVICES  3263 non-null   bool   \n",
      " 12  USES_EHRs           3207 non-null   float64\n",
      " 13  DENOM16             3040 non-null   float64\n",
      " 14  SIR16               2005 non-null   float64\n",
      " 15  DENOM15             3038 non-null   float64\n",
      " 16  SIR15               2038 non-null   float64\n",
      " 17  Treatment           3010 non-null   float64\n",
      "dtypes: bool(1), float64(10), int64(3), object(4)\n",
      "memory usage: 436.7+ KB\n"
     ]
    }
   ],
   "source": [
    "df.info()"
   ]
  },
  {
   "cell_type": "code",
   "execution_count": 16,
   "id": "09bdc1b7",
   "metadata": {},
   "outputs": [
    {
     "name": "stdout",
     "output_type": "stream",
     "text": [
      "There is no overlap between the intervention and control group.\n"
     ]
    }
   ],
   "source": [
    "# Get the unique values in the Treatment column\n",
    "treatment = df['Treatment'].unique()\n",
    "\n",
    "# Get the unique values in the Hospital column for each Treatment value\n",
    "hospitals_by_treatment = {}\n",
    "for t in treatment:\n",
    "    hospitals_by_treatment[t] = df.loc[df['Treatment'] == t, 'HOSP.ID'].unique()\n",
    "\n",
    "# Check if there is any overlap between the hospitals in the Treatment and Control groups\n",
    "overlap = set(hospitals_by_treatment[True]).intersection(set(hospitals_by_treatment[False]))\n",
    "\n",
    "if overlap:\n",
    "    print(\"There is overlap between the intervention and control group.\")\n",
    "else:\n",
    "    print(\"There is no overlap between the intervention and control group.\")"
   ]
  },
  {
   "cell_type": "code",
   "execution_count": 28,
   "id": "1ac43e39",
   "metadata": {},
   "outputs": [],
   "source": [
    "# Split data into treatment and control groups\n",
    "treatment_df = df.loc[df['Treatment'] == True]\n",
    "control_df = df.loc[df['Treatment'] == False]"
   ]
  },
  {
   "cell_type": "code",
   "execution_count": 29,
   "id": "0d8168a6",
   "metadata": {},
   "outputs": [
    {
     "name": "stdout",
     "output_type": "stream",
     "text": [
      "<class 'pandas.core.frame.DataFrame'>\n",
      "Int64Index: 2056 entries, 0 to 3262\n",
      "Data columns (total 18 columns):\n",
      " #   Column              Non-Null Count  Dtype  \n",
      "---  ------              --------------  -----  \n",
      " 0   HOSP.ID             2056 non-null   int64  \n",
      " 1   NAME                2055 non-null   object \n",
      " 2   URBAN_RURAL         2056 non-null   object \n",
      " 3   WAGE_INDEX          2056 non-null   float64\n",
      " 4   RESIDENT_TO_BEDS    2056 non-null   float64\n",
      " 5   BEDS                2056 non-null   int64  \n",
      " 6   Cost_to_Charge      2056 non-null   float64\n",
      " 7   ANNUAL_VOLUME       2056 non-null   int64  \n",
      " 8   CASEMIX             2056 non-null   float64\n",
      " 9   TYPE                2056 non-null   object \n",
      " 10  OWNERSHIP           2056 non-null   object \n",
      " 11  EMERGENCY_SERVICES  2056 non-null   bool   \n",
      " 12  USES_EHRs           2044 non-null   float64\n",
      " 13  DENOM16             1988 non-null   float64\n",
      " 14  SIR16               1224 non-null   float64\n",
      " 15  DENOM15             1984 non-null   float64\n",
      " 16  SIR15               1252 non-null   float64\n",
      " 17  Treatment           2056 non-null   float64\n",
      "dtypes: bool(1), float64(10), int64(3), object(4)\n",
      "memory usage: 291.1+ KB\n"
     ]
    }
   ],
   "source": [
    "treatment_df.info()"
   ]
  },
  {
   "cell_type": "code",
   "execution_count": 30,
   "id": "850b611f",
   "metadata": {},
   "outputs": [
    {
     "name": "stdout",
     "output_type": "stream",
     "text": [
      "<class 'pandas.core.frame.DataFrame'>\n",
      "Int64Index: 954 entries, 1 to 3242\n",
      "Data columns (total 18 columns):\n",
      " #   Column              Non-Null Count  Dtype  \n",
      "---  ------              --------------  -----  \n",
      " 0   HOSP.ID             954 non-null    int64  \n",
      " 1   NAME                954 non-null    object \n",
      " 2   URBAN_RURAL         954 non-null    object \n",
      " 3   WAGE_INDEX          954 non-null    float64\n",
      " 4   RESIDENT_TO_BEDS    954 non-null    float64\n",
      " 5   BEDS                954 non-null    int64  \n",
      " 6   Cost_to_Charge      954 non-null    float64\n",
      " 7   ANNUAL_VOLUME       954 non-null    int64  \n",
      " 8   CASEMIX             954 non-null    float64\n",
      " 9   TYPE                954 non-null    object \n",
      " 10  OWNERSHIP           954 non-null    object \n",
      " 11  EMERGENCY_SERVICES  954 non-null    bool   \n",
      " 12  USES_EHRs           949 non-null    float64\n",
      " 13  DENOM16             950 non-null    float64\n",
      " 14  SIR16               773 non-null    float64\n",
      " 15  DENOM15             950 non-null    float64\n",
      " 16  SIR15               777 non-null    float64\n",
      " 17  Treatment           954 non-null    float64\n",
      "dtypes: bool(1), float64(10), int64(3), object(4)\n",
      "memory usage: 135.1+ KB\n"
     ]
    }
   ],
   "source": [
    "control_df.info()"
   ]
  },
  {
   "cell_type": "code",
   "execution_count": 24,
   "id": "a3999b97",
   "metadata": {},
   "outputs": [
    {
     "name": "stdout",
     "output_type": "stream",
     "text": [
      "GOOD SAMARITAN HOSPITAL                    8\n",
      "MEMORIAL HOSPITAL                          7\n",
      "ST JOSEPH HOSPITAL                         6\n",
      "MERCY HOSPITAL                             6\n",
      "ST JOSEPH MEDICAL CENTER                   5\n",
      "                                          ..\n",
      "SALINA REGIONAL HEALTH CENTER              1\n",
      "HAYS MEDICAL CENTER                        1\n",
      "RANSOM MEMORIAL HOSPITAL                   1\n",
      "ST FRANCIS HEALTH CENTER INC               1\n",
      "SCOTT & WHITE HOSPITAL- COLLEGE STATION    1\n",
      "Name: NAME, Length: 3148, dtype: int64\n",
      "--------------------------------------------------\n",
      "LURBAN    1364\n",
      "OURBAN    1109\n",
      "RURAL      790\n",
      "Name: URBAN_RURAL, dtype: int64\n",
      "--------------------------------------------------\n",
      "Acute Care Hospitals    3263\n",
      "Name: TYPE, dtype: int64\n",
      "--------------------------------------------------\n",
      "Voluntary non-profit - Private                 1374\n",
      "Proprietary                                     681\n",
      "Voluntary non-profit - Other                    355\n",
      "Voluntary non-profit - Church                   269\n",
      "Government - Hospital District or Authority     268\n",
      "Government - Local                              169\n",
      "Physician                                        60\n",
      "Government - State                               47\n",
      "Government - Federal                             35\n",
      "Tribal                                            5\n",
      "Name: OWNERSHIP, dtype: int64\n",
      "--------------------------------------------------\n"
     ]
    }
   ],
   "source": [
    "# Making a list of all categorical variables\n",
    "cat_col_overall = list(df.select_dtypes(\"object\").columns)\n",
    "\n",
    "# Printing count of each unique value in each categorical column\n",
    "for column in cat_col:\n",
    "    print(df[column].value_counts(normalize = False))\n",
    "    print(\"-\" * 50)"
   ]
  },
  {
   "cell_type": "code",
   "execution_count": 25,
   "id": "fc0c5543",
   "metadata": {},
   "outputs": [
    {
     "name": "stdout",
     "output_type": "stream",
     "text": [
      "MEMORIAL HOSPITAL                          7\n",
      "MERCY HOSPITAL                             4\n",
      "GOOD SAMARITAN HOSPITAL                    4\n",
      "ST JOSEPH HOSPITAL                         3\n",
      "ST LUKES HOSPITAL                          3\n",
      "                                          ..\n",
      "SUSAN B ALLEN MEMORIAL HOSPITAL            1\n",
      "RANSOM MEMORIAL HOSPITAL                   1\n",
      "HAYS MEDICAL CENTER                        1\n",
      "SALINA REGIONAL HEALTH CENTER              1\n",
      "SCOTT & WHITE HOSPITAL- COLLEGE STATION    1\n",
      "Name: NAME, Length: 1998, dtype: int64\n",
      "--------------------------------------------------\n",
      "LURBAN    787\n",
      "OURBAN    691\n",
      "RURAL     578\n",
      "Name: URBAN_RURAL, dtype: int64\n",
      "--------------------------------------------------\n",
      "Acute Care Hospitals    2056\n",
      "Name: TYPE, dtype: int64\n",
      "--------------------------------------------------\n",
      "Voluntary non-profit - Private                 941\n",
      "Proprietary                                    329\n",
      "Voluntary non-profit - Other                   260\n",
      "Voluntary non-profit - Church                  192\n",
      "Government - Hospital District or Authority    166\n",
      "Government - Local                             110\n",
      "Physician                                       26\n",
      "Government - State                              21\n",
      "Government - Federal                             8\n",
      "Tribal                                           3\n",
      "Name: OWNERSHIP, dtype: int64\n",
      "--------------------------------------------------\n"
     ]
    }
   ],
   "source": [
    "# Making a list of all categorical variables\n",
    "cat_col_treatment = list(treatment_df.select_dtypes(\"object\").columns)\n",
    "\n",
    "# Printing count of each unique value in each categorical column\n",
    "for column in cat_col_treatment:\n",
    "    print(treatment_df[column].value_counts(normalize = False))\n",
    "    print(\"-\" * 50)"
   ]
  },
  {
   "cell_type": "code",
   "execution_count": 26,
   "id": "be7ae9e9",
   "metadata": {},
   "outputs": [
    {
     "name": "stdout",
     "output_type": "stream",
     "text": [
      "GOOD SAMARITAN HOSPITAL                 4\n",
      "MERCY MEDICAL CENTER                    3\n",
      "ST JOSEPH HOSPITAL                      3\n",
      "MERCY HOSPITAL                          2\n",
      "NORTHWEST MEDICAL CENTER                2\n",
      "                                       ..\n",
      "ALTON MEMORIAL HOSPITAL                 1\n",
      "PRESENCE SAINT JOSEPH MEDICAL CENTER    1\n",
      "PROCTOR HOSPITAL                        1\n",
      "MT SINAI HOSPITAL MEDICAL CENTER        1\n",
      "SETON MEDICAL CENTER HAYS               1\n",
      "Name: NAME, Length: 935, dtype: int64\n",
      "--------------------------------------------------\n",
      "LURBAN    458\n",
      "OURBAN    328\n",
      "RURAL     168\n",
      "Name: URBAN_RURAL, dtype: int64\n",
      "--------------------------------------------------\n",
      "Acute Care Hospitals    954\n",
      "Name: TYPE, dtype: int64\n",
      "--------------------------------------------------\n",
      "Voluntary non-profit - Private                 381\n",
      "Proprietary                                    261\n",
      "Government - Hospital District or Authority     86\n",
      "Voluntary non-profit - Other                    78\n",
      "Voluntary non-profit - Church                   73\n",
      "Government - Local                              48\n",
      "Government - State                              18\n",
      "Government - Federal                             7\n",
      "Physician                                        2\n",
      "Name: OWNERSHIP, dtype: int64\n",
      "--------------------------------------------------\n"
     ]
    }
   ],
   "source": [
    "# Making a list of all categorical variables\n",
    "cat_col_control = list(control_df.select_dtypes(\"object\").columns)\n",
    "\n",
    "# Printing count of each unique value in each categorical column\n",
    "for column in cat_col_control:\n",
    "    print(control_df[column].value_counts(normalize = False))\n",
    "    print(\"-\" * 50)"
   ]
  },
  {
   "cell_type": "code",
   "execution_count": null,
   "id": "6925a128",
   "metadata": {},
   "outputs": [],
   "source": []
  }
 ],
 "metadata": {
  "kernelspec": {
   "display_name": "Python 3 (ipykernel)",
   "language": "python",
   "name": "python3"
  },
  "language_info": {
   "codemirror_mode": {
    "name": "ipython",
    "version": 3
   },
   "file_extension": ".py",
   "mimetype": "text/x-python",
   "name": "python",
   "nbconvert_exporter": "python",
   "pygments_lexer": "ipython3",
   "version": "3.9.13"
  }
 },
 "nbformat": 4,
 "nbformat_minor": 5
}
