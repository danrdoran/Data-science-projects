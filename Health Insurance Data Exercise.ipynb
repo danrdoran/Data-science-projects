{
 "cells": [
  {
   "cell_type": "markdown",
   "id": "fb10a95c",
   "metadata": {},
   "source": [
    "Background\n",
    " - The team has been asked to evaluate the recent revenue performance for a health insurance product. We are particularly interested in how long customers are keeping these insurance policies\n",
    "\n",
    "Data description\n",
    " - The data consists of transactions from 7/1/2018 to 6/7/2019\n",
    " - It includes:\n",
    "    - Customer ID\n",
    "    - Membership Start Date – start of policy\n",
    "    -Transaction Date – date of payment\n",
    "    - Payment Type (Annual Fee or Monthly Fee)\n",
    "    - Revenue – amount of payment received"
   ]
  },
  {
   "cell_type": "code",
   "execution_count": 1,
   "id": "12603b34",
   "metadata": {},
   "outputs": [],
   "source": [
    "import numpy as np\n",
    "import pandas as pd\n",
    "import matplotlib.pyplot as plt\n",
    "import seaborn as sns\n",
    "import scipy.stats as stats\n",
    "\n",
    "import warnings\n",
    "warnings.filterwarnings('ignore')"
   ]
  },
  {
   "cell_type": "code",
   "execution_count": 2,
   "id": "b289e32f",
   "metadata": {},
   "outputs": [],
   "source": [
    "data=pd.read_csv(\"dataset_healthinsurance.csv\")"
   ]
  },
  {
   "cell_type": "code",
   "execution_count": 3,
   "id": "aaba943d",
   "metadata": {},
   "outputs": [],
   "source": [
    "df = data.copy()"
   ]
  },
  {
   "cell_type": "code",
   "execution_count": 4,
   "id": "de0b913b",
   "metadata": {},
   "outputs": [
    {
     "data": {
      "text/html": [
       "<div>\n",
       "<style scoped>\n",
       "    .dataframe tbody tr th:only-of-type {\n",
       "        vertical-align: middle;\n",
       "    }\n",
       "\n",
       "    .dataframe tbody tr th {\n",
       "        vertical-align: top;\n",
       "    }\n",
       "\n",
       "    .dataframe thead th {\n",
       "        text-align: right;\n",
       "    }\n",
       "</style>\n",
       "<table border=\"1\" class=\"dataframe\">\n",
       "  <thead>\n",
       "    <tr style=\"text-align: right;\">\n",
       "      <th></th>\n",
       "      <th>Customer ID</th>\n",
       "      <th>Membership Start Date</th>\n",
       "      <th>Transaction Date</th>\n",
       "      <th>Payment Type</th>\n",
       "      <th>Revenue</th>\n",
       "    </tr>\n",
       "  </thead>\n",
       "  <tbody>\n",
       "    <tr>\n",
       "      <th>0</th>\n",
       "      <td>386379</td>\n",
       "      <td>2019-02-19</td>\n",
       "      <td>2019-02-18</td>\n",
       "      <td>Annual Fee</td>\n",
       "      <td>285.9</td>\n",
       "    </tr>\n",
       "    <tr>\n",
       "      <th>1</th>\n",
       "      <td>386379</td>\n",
       "      <td>2019-02-19</td>\n",
       "      <td>2019-02-18</td>\n",
       "      <td>Monthly Fee</td>\n",
       "      <td>26.5</td>\n",
       "    </tr>\n",
       "    <tr>\n",
       "      <th>2</th>\n",
       "      <td>386379</td>\n",
       "      <td>2019-02-19</td>\n",
       "      <td>2019-03-19</td>\n",
       "      <td>Monthly Fee</td>\n",
       "      <td>26.5</td>\n",
       "    </tr>\n",
       "    <tr>\n",
       "      <th>3</th>\n",
       "      <td>386379</td>\n",
       "      <td>2019-02-19</td>\n",
       "      <td>2019-04-19</td>\n",
       "      <td>Monthly Fee</td>\n",
       "      <td>26.5</td>\n",
       "    </tr>\n",
       "    <tr>\n",
       "      <th>4</th>\n",
       "      <td>386379</td>\n",
       "      <td>2019-02-19</td>\n",
       "      <td>2019-05-19</td>\n",
       "      <td>Monthly Fee</td>\n",
       "      <td>26.5</td>\n",
       "    </tr>\n",
       "    <tr>\n",
       "      <th>...</th>\n",
       "      <td>...</td>\n",
       "      <td>...</td>\n",
       "      <td>...</td>\n",
       "      <td>...</td>\n",
       "      <td>...</td>\n",
       "    </tr>\n",
       "    <tr>\n",
       "      <th>49460</th>\n",
       "      <td>397988</td>\n",
       "      <td>2019-04-02</td>\n",
       "      <td>2019-04-01</td>\n",
       "      <td>Annual Fee</td>\n",
       "      <td>331.9</td>\n",
       "    </tr>\n",
       "    <tr>\n",
       "      <th>49461</th>\n",
       "      <td>397988</td>\n",
       "      <td>2019-04-02</td>\n",
       "      <td>2019-04-01</td>\n",
       "      <td>Monthly Fee</td>\n",
       "      <td>26.5</td>\n",
       "    </tr>\n",
       "    <tr>\n",
       "      <th>49462</th>\n",
       "      <td>398359</td>\n",
       "      <td>2019-04-02</td>\n",
       "      <td>2019-04-02</td>\n",
       "      <td>Annual Fee</td>\n",
       "      <td>517.0</td>\n",
       "    </tr>\n",
       "    <tr>\n",
       "      <th>49463</th>\n",
       "      <td>398359</td>\n",
       "      <td>2019-04-02</td>\n",
       "      <td>2019-04-02</td>\n",
       "      <td>Monthly Fee</td>\n",
       "      <td>26.5</td>\n",
       "    </tr>\n",
       "    <tr>\n",
       "      <th>49464</th>\n",
       "      <td>398359</td>\n",
       "      <td>2019-04-02</td>\n",
       "      <td>2019-05-02</td>\n",
       "      <td>Monthly Fee</td>\n",
       "      <td>26.5</td>\n",
       "    </tr>\n",
       "  </tbody>\n",
       "</table>\n",
       "<p>49465 rows × 5 columns</p>\n",
       "</div>"
      ],
      "text/plain": [
       "       Customer ID Membership Start Date Transaction Date Payment Type  \\\n",
       "0           386379            2019-02-19       2019-02-18   Annual Fee   \n",
       "1           386379            2019-02-19       2019-02-18  Monthly Fee   \n",
       "2           386379            2019-02-19       2019-03-19  Monthly Fee   \n",
       "3           386379            2019-02-19       2019-04-19  Monthly Fee   \n",
       "4           386379            2019-02-19       2019-05-19  Monthly Fee   \n",
       "...            ...                   ...              ...          ...   \n",
       "49460       397988            2019-04-02       2019-04-01   Annual Fee   \n",
       "49461       397988            2019-04-02       2019-04-01  Monthly Fee   \n",
       "49462       398359            2019-04-02       2019-04-02   Annual Fee   \n",
       "49463       398359            2019-04-02       2019-04-02  Monthly Fee   \n",
       "49464       398359            2019-04-02       2019-05-02  Monthly Fee   \n",
       "\n",
       "       Revenue  \n",
       "0        285.9  \n",
       "1         26.5  \n",
       "2         26.5  \n",
       "3         26.5  \n",
       "4         26.5  \n",
       "...        ...  \n",
       "49460    331.9  \n",
       "49461     26.5  \n",
       "49462    517.0  \n",
       "49463     26.5  \n",
       "49464     26.5  \n",
       "\n",
       "[49465 rows x 5 columns]"
      ]
     },
     "execution_count": 4,
     "metadata": {},
     "output_type": "execute_result"
    }
   ],
   "source": [
    "df"
   ]
  },
  {
   "cell_type": "markdown",
   "id": "69f04ba0",
   "metadata": {},
   "source": [
    "Question 1: Which month had the highest revenue (by \"Transaction Date\")? What was the percentage of revenue for that month by payment type?"
   ]
  },
  {
   "cell_type": "code",
   "execution_count": 5,
   "id": "0fb44fab",
   "metadata": {
    "scrolled": true
   },
   "outputs": [
    {
     "name": "stdout",
     "output_type": "stream",
     "text": [
      "The month with highest revenue is: 2018-12\n",
      "Payment Type\n",
      "Annual Fee     91.572934\n",
      "Monthly Fee     8.427066\n",
      "Name: Revenue, dtype: float64\n"
     ]
    }
   ],
   "source": [
    "# Extract the month and year from the 'Transaction Date'\n",
    "df['Transaction_Month'] = pd.to_datetime(df['Transaction Date']).dt.to_period('M')\n",
    "\n",
    "# Group by the extracted month and sum the revenue\n",
    "monthly_revenue = df.groupby('Transaction_Month')['Revenue'].sum()\n",
    "\n",
    "# Find the month with the highest revenue\n",
    "max_revenue_month = monthly_revenue.idxmax()\n",
    "max_revenue_value = monthly_revenue.max()\n",
    "\n",
    "# Filter the data for that month and group by Payment Type\n",
    "payment_type_revenue = df[df['Transaction_Month'] == max_revenue_month].groupby('Payment Type')['Revenue'].sum()\n",
    "\n",
    "# Calculate the percentage of revenue by payment type for that month\n",
    "payment_type_percentage = (payment_type_revenue / max_revenue_value) * 100\n",
    "\n",
    "print(f\"The month with highest revenue is: {max_revenue_month}\")\n",
    "print(payment_type_percentage)"
   ]
  },
  {
   "cell_type": "markdown",
   "id": "85ef1348",
   "metadata": {},
   "source": [
    "Question 2: How many members started their memberships in December 2018 (by \"Membership Start Date\")?"
   ]
  },
  {
   "cell_type": "code",
   "execution_count": 6,
   "id": "29f613a0",
   "metadata": {},
   "outputs": [
    {
     "name": "stdout",
     "output_type": "stream",
     "text": [
      "Number of members who started their memberships in December 2018: 1254\n"
     ]
    }
   ],
   "source": [
    "# Convert 'Membership Start Date' to datetime format\n",
    "df['Membership Start Date'] = pd.to_datetime(df['Membership Start Date'])\n",
    "\n",
    "# Filter the data to only include entries with a \"Membership Start Date\" in December 2018\n",
    "december_2018_members = df[df['Membership Start Date'].dt.month == 12][df['Membership Start Date'].dt.year == 2018]\n",
    "\n",
    "# Count the unique \"Customer IDs\" for this filtered data to get the number of new members in December 2018\n",
    "unique_members_december_2018 = december_2018_members['Customer ID'].nunique()\n",
    "\n",
    "print(f\"Number of members who started their memberships in December 2018: {unique_members_december_2018}\")"
   ]
  },
  {
   "cell_type": "markdown",
   "id": "0d6dc0ec",
   "metadata": {},
   "source": [
    "Question 3: On average, for how many months did members who started their memberships in July 2018 continue to pay the monthly fee?"
   ]
  },
  {
   "cell_type": "code",
   "execution_count": 7,
   "id": "d3f6befb",
   "metadata": {},
   "outputs": [
    {
     "name": "stdout",
     "output_type": "stream",
     "text": [
      "On average, members who started their memberships in July 2018 continued to pay the monthly fee for 4.92 months.\n"
     ]
    }
   ],
   "source": [
    "# Convert relevant columns to datetime format\n",
    "df['Membership Start Date'] = pd.to_datetime(df['Membership Start Date'])\n",
    "df['Transaction Date'] = pd.to_datetime(df['Transaction Date'])\n",
    "\n",
    "# Filter for members who started their memberships in July 2018\n",
    "july_2018_members = df[df['Membership Start Date'].dt.month == 7][df['Membership Start Date'].dt.year == 2018]['Customer ID'].unique()\n",
    "\n",
    "# Filter transactions of these members which are of type 'Monthly Fee'\n",
    "july_2018_member_transactions = df[df['Customer ID'].isin(july_2018_members) & (df['Payment Type'] == 'Monthly Fee')]\n",
    "\n",
    "# Count the monthly transactions for each member\n",
    "transaction_counts = july_2018_member_transactions.groupby('Customer ID').size()\n",
    "\n",
    "# Calculate the average number of months\n",
    "average_months = transaction_counts.mean()\n",
    "\n",
    "print(f\"On average, members who started their memberships in July 2018 continued to pay the monthly fee for {average_months:.2f} months.\")"
   ]
  },
  {
   "cell_type": "markdown",
   "id": "0b1cb073",
   "metadata": {},
   "source": [
    "Question 4: Assume that transactions for June 2019 are incomplete and that transactions beyond June 2019 are unobserved. What type of statistical or machine learning modeling technique(s) would you use to build a predictive model of customer retention?\n",
    "\n",
    "To answer this question we'll use a logistic regression model.\n",
    "\n",
    "We'll create a binary column called \"Churned\", where 1 indicates the customer has churned and 0 indicates they have not. This could be determined by checking if there's a lack of a transaction for a certain period (for example, if a customer hasn't made a transaction for 3 months).\n",
    "\n",
    "We'll create features that could be predictive of churn, such as:\n",
    " - Duration of membership\n",
    " - Total revenue from a customer\n",
    " - Average transaction amount\n",
    " - Time since the last transaction\n",
    " - Number of transactions made by the customer\n",
    "\n",
    "To develop and evaluate the model, we'll split the data into a training set and a test set and fit a logistic regression model on the training data."
   ]
  },
  {
   "cell_type": "code",
   "execution_count": 8,
   "id": "db9ade39",
   "metadata": {},
   "outputs": [],
   "source": [
    "from sklearn.model_selection import train_test_split\n",
    "from sklearn.linear_model import LogisticRegression\n",
    "from sklearn.preprocessing import OneHotEncoder\n",
    "\n",
    "\n",
    "# Derive the target variable (this is a hypothetical method; real method would depend on specific criteria)\n",
    "df['Churned'] = df.groupby('Customer ID')['Transaction Date'].transform('max')\n",
    "df['Churned'] = ((pd.to_datetime('6/7/2019') - df['Churned']).dt.days > 90).astype(int)  # Churned if no transaction in last 3 months\n",
    "\n",
    "# Convert Payment Type into numeric using one-hot encoding\n",
    "encoder = OneHotEncoder(drop='first')\n",
    "payment_encoded = encoder.fit_transform(data[['Payment Type']])\n",
    "payment_df = pd.DataFrame(payment_encoded.toarray(), columns=encoder.get_feature_names(['Payment Type']))\n",
    "\n",
    "df = pd.concat([df, payment_df], axis=1)  # .drop(columns='Payment Type')\n",
    "\n",
    "# Create other features (hypothetical; real methods would depend on the specific criteria and domain knowledge)\n",
    "df['Duration of membership'] = (pd.to_datetime(df['Transaction Date']) - pd.to_datetime(df['Membership Start Date'])).dt.days\n",
    "\n",
    "# Split the data\n",
    "X = df[['Duration of membership', 'Payment Type_Monthly Fee', 'Revenue']]  # and any other features\n",
    "y = df['Churned']\n",
    "X_train, X_test, y_train, y_test = train_test_split(X, y, test_size=0.2, random_state=42)\n",
    "\n",
    "# Train a logistic regression model\n",
    "model = LogisticRegression()\n",
    "model.fit(X_train, y_train)\n",
    "\n",
    "# Predict on test set (just as an example)\n",
    "y_pred = model.predict(X_test)"
   ]
  },
  {
   "cell_type": "code",
   "execution_count": 9,
   "id": "fcd4fca3",
   "metadata": {},
   "outputs": [
    {
     "name": "stdout",
     "output_type": "stream",
     "text": [
      "Accuracy: 0.67\n",
      "Precision: 0.51\n"
     ]
    }
   ],
   "source": [
    "from sklearn.metrics import accuracy_score, precision_score, recall_score, f1_score, roc_auc_score, roc_curve\n",
    "import matplotlib.pyplot as plt\n",
    "\n",
    "# Predict probabilities for the positive class\n",
    "y_prob = model.predict_proba(X_test)[:,1]\n",
    "\n",
    "# Compute metrics\n",
    "accuracy = accuracy_score(y_test, y_pred)\n",
    "precision = precision_score(y_test, y_pred)\n",
    "\n",
    "\n",
    "print(f\"Accuracy: {accuracy:.2f}\")\n",
    "print(f\"Precision: {precision:.2f}\")\n"
   ]
  },
  {
   "cell_type": "markdown",
   "id": "11147b6b",
   "metadata": {},
   "source": [
    "Question 5: How many customers paid the Monthly Fee in May 2019? Predict the Membership End Date for these customers.\n",
    "\n",
    "We'll filter the data for May 2019 to find customers who paid the Monthly Fee. As we can't make any assumptions about membership end dates based on June 2019 transactions, and we can't employ a machine learning model without relevant training data including Membership End Date, we can take an approach based on historical data.\n",
    "\n",
    "We'll calculate the average membership duration for each customer up to May 2019, and use this average to project an expected membership end date for the customers identified in the previous step."
   ]
  },
  {
   "cell_type": "code",
   "execution_count": 10,
   "id": "aec75908",
   "metadata": {},
   "outputs": [
    {
     "name": "stdout",
     "output_type": "stream",
     "text": [
      "There are 4533 customers who paid the Monthly Fee in May 2019.\n",
      "                       Predicted End Date\n",
      "Customer ID                              \n",
      "386379      2019-06-22 19:12:00.000000000\n",
      "385532      2019-06-18 19:12:00.000000000\n",
      "382351      2019-06-05 19:12:00.000000000\n",
      "363517      2019-06-11 00:00:00.000000000\n",
      "362304      2019-07-05 17:08:34.285689600\n",
      "...                                   ...\n",
      "397958      2019-05-18 00:00:00.000000000\n",
      "397965      2019-05-11 07:59:59.999971200\n",
      "397969      2019-05-11 07:59:59.999971200\n",
      "397983      2019-05-11 07:59:59.999971200\n",
      "398359      2019-05-12 00:00:00.000000000\n",
      "\n",
      "[4585 rows x 1 columns]\n"
     ]
    }
   ],
   "source": [
    "df['Transaction Date'] = pd.to_datetime(df['Transaction Date'])\n",
    "df['Membership Start Date'] = pd.to_datetime(df['Membership Start Date'])\n",
    "\n",
    "# Filter for transactions in May 2019 with Monthly Fee\n",
    "may_2019_payments = df[(df['Transaction Date'].dt.month == 5) & \n",
    "                       (df['Transaction Date'].dt.year == 2019) & \n",
    "                       (df['Payment Type'] == 'Monthly Fee')]\n",
    "\n",
    "customers_count = may_2019_payments['Customer ID'].nunique()\n",
    "print(f\"There are {customers_count} customers who paid the Monthly Fee in May 2019.\")\n",
    "\n",
    "# Calculate the average membership duration up to May 2019 for each customer\n",
    "df_before_june_2019 = df[df['Transaction Date'] <= '2019-05-31']\n",
    "df_before_june_2019['Duration'] = (df_before_june_2019['Transaction Date'] - df_before_june_2019['Membership Start Date']).dt.days\n",
    "avg_durations = df_before_june_2019.groupby('Customer ID')['Duration'].mean()\n",
    "\n",
    "# Predict the end date using the average duration\n",
    "may_2019_payments = may_2019_payments.set_index('Customer ID')\n",
    "may_2019_payments['Average Duration'] = avg_durations\n",
    "may_2019_payments['Predicted End Date'] = may_2019_payments['Transaction Date'] + pd.to_timedelta(may_2019_payments['Average Duration'], unit='d')\n",
    "\n",
    "print(may_2019_payments[['Predicted End Date']])"
   ]
  },
  {
   "cell_type": "markdown",
   "id": "c4822d9b",
   "metadata": {},
   "source": [
    "This approach assumes that a customer's past behavior is indicative of their future behavior. This might not always be the case. We're relying on the mean duration, which can be sensitive to outliers. Median or mode could be alternative metrics to consider. We're considering all past transactions, but it might be useful to give more weight to recent transactions."
   ]
  }
 ],
 "metadata": {
  "kernelspec": {
   "display_name": "Python 3 (ipykernel)",
   "language": "python",
   "name": "python3"
  },
  "language_info": {
   "codemirror_mode": {
    "name": "ipython",
    "version": 3
   },
   "file_extension": ".py",
   "mimetype": "text/x-python",
   "name": "python",
   "nbconvert_exporter": "python",
   "pygments_lexer": "ipython3",
   "version": "3.9.13"
  }
 },
 "nbformat": 4,
 "nbformat_minor": 5
}
